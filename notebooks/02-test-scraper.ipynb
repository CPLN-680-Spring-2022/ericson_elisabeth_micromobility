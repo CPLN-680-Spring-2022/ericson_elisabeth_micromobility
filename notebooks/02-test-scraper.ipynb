{
 "cells": [
  {
   "cell_type": "code",
   "execution_count": 1,
   "id": "02ce77d8",
   "metadata": {},
   "outputs": [],
   "source": [
    "import pandas as pd\n",
    "import requests\n",
    "import time\n",
    "\n",
    "from datetime import datetime"
   ]
  },
  {
   "cell_type": "code",
   "execution_count": 2,
   "id": "a1d16f06",
   "metadata": {},
   "outputs": [],
   "source": [
    "# get station information (once for now; once daily when doing regularly?)\n",
    "\n",
    "r = requests.get('https://gbfs.capitalbikeshare.com/gbfs/en/station_information.json')\n",
    "j = r.json()\n",
    "s = j['data']['stations']\n",
    "\n",
    "stations = pd.json_normalize(s)\n",
    "stations['timestamp'] = datetime.now().strftime(\"%H:%M:%S\")\n",
    "\n",
    "stations.to_csv('../raw_data/station_data.csv')"
   ]
  },
  {
   "cell_type": "code",
   "execution_count": 3,
   "id": "3878d456",
   "metadata": {},
   "outputs": [],
   "source": [
    "def call_dockless_api():\n",
    "    \n",
    "    url = 'https://gbfs.capitalbikeshare.com/gbfs/en/free_bike_status.json'\n",
    "    \n",
    "    r = requests.get(url)\n",
    "    j = r.json()\n",
    "    b = j['data']['bikes']\n",
    "    \n",
    "    dockless_bikes = pd.json_normalize(b)\n",
    "    dockless_bikes['timestamp'] = datetime.now().strftime(\"%H:%M:%S\")\n",
    "    \n",
    "    return dockless_bikes   "
   ]
  },
  {
   "cell_type": "code",
   "execution_count": 4,
   "id": "11ba33c9",
   "metadata": {},
   "outputs": [],
   "source": [
    "def call_docked_api():\n",
    "    \n",
    "    url = 'https://gbfs.capitalbikeshare.com/gbfs/en/station_status.json'\n",
    "    \n",
    "    r = requests.get(url)\n",
    "    j = r.json()\n",
    "    b = j['data']['stations']\n",
    "    \n",
    "    docked_bikes = pd.json_normalize(b)\n",
    "    docked_bikes['timestamp'] = datetime.now().strftime(\"%H:%M:%S\")\n",
    "    \n",
    "    return docked_bikes "
   ]
  },
  {
   "cell_type": "code",
   "execution_count": 5,
   "id": "8b50430b",
   "metadata": {},
   "outputs": [],
   "source": [
    "def scrape_bikes(interval):\n",
    "    \n",
    "    start_time = time.strftime('%Y-%m-%d-%H-%M-%S')\n",
    "    \n",
    "    dockless_bike_data = pd.DataFrame()\n",
    "    docked_bike_data = pd.DataFrame()\n",
    "    \n",
    "    while True:\n",
    "        \n",
    "        current_dockless_bikes = call_dockless_api()\n",
    "        current_docked_bikes = call_docked_api()\n",
    "        \n",
    "        dockless_bike_data = pd.concat((dockless_bike_data, current_dockless_bikes))\n",
    "        docked_bike_data = pd.concat((docked_bike_data, current_docked_bikes))\n",
    "        \n",
    "        dockless_bike_data.to_csv(f'../raw_data/dockless_bike_data_{start_time}.csv')\n",
    "        docked_bike_data.to_csv(f'../raw_data/docked_bike_data_{start_time}.csv')\n",
    "        \n",
    "        time.sleep(interval)"
   ]
  },
  {
   "cell_type": "code",
   "execution_count": 6,
   "id": "00a9221a",
   "metadata": {},
   "outputs": [
    {
     "ename": "KeyboardInterrupt",
     "evalue": "",
     "output_type": "error",
     "traceback": [
      "\u001b[0;31m---------------------------------------------------------------------------\u001b[0m",
      "\u001b[0;31mKeyboardInterrupt\u001b[0m                         Traceback (most recent call last)",
      "Input \u001b[0;32mIn [6]\u001b[0m, in \u001b[0;36m<module>\u001b[0;34m\u001b[0m\n\u001b[0;32m----> 1\u001b[0m \u001b[43mscrape_bikes\u001b[49m\u001b[43m(\u001b[49m\u001b[38;5;241;43m60\u001b[39;49m\u001b[43m)\u001b[49m\n",
      "Input \u001b[0;32mIn [5]\u001b[0m, in \u001b[0;36mscrape_bikes\u001b[0;34m(interval)\u001b[0m\n\u001b[1;32m     16\u001b[0m dockless_bike_data\u001b[38;5;241m.\u001b[39mto_csv(\u001b[38;5;124mf\u001b[39m\u001b[38;5;124m'\u001b[39m\u001b[38;5;124m../raw_data/dockless_bike_data_\u001b[39m\u001b[38;5;132;01m{\u001b[39;00mstart_time\u001b[38;5;132;01m}\u001b[39;00m\u001b[38;5;124m.csv\u001b[39m\u001b[38;5;124m'\u001b[39m)\n\u001b[1;32m     17\u001b[0m docked_bike_data\u001b[38;5;241m.\u001b[39mto_csv(\u001b[38;5;124mf\u001b[39m\u001b[38;5;124m'\u001b[39m\u001b[38;5;124m../raw_data/docked_bike_data_\u001b[39m\u001b[38;5;132;01m{\u001b[39;00mstart_time\u001b[38;5;132;01m}\u001b[39;00m\u001b[38;5;124m.csv\u001b[39m\u001b[38;5;124m'\u001b[39m)\n\u001b[0;32m---> 19\u001b[0m \u001b[43mtime\u001b[49m\u001b[38;5;241;43m.\u001b[39;49m\u001b[43msleep\u001b[49m\u001b[43m(\u001b[49m\u001b[43minterval\u001b[49m\u001b[43m)\u001b[49m\n",
      "\u001b[0;31mKeyboardInterrupt\u001b[0m: "
     ]
    }
   ],
   "source": [
    "scrape_bikes(60)"
   ]
  }
 ],
 "metadata": {
  "kernelspec": {
   "display_name": "Python 3 (ipykernel)",
   "language": "python",
   "name": "python3"
  },
  "language_info": {
   "codemirror_mode": {
    "name": "ipython",
    "version": 3
   },
   "file_extension": ".py",
   "mimetype": "text/x-python",
   "name": "python",
   "nbconvert_exporter": "python",
   "pygments_lexer": "ipython3",
   "version": "3.8.10"
  }
 },
 "nbformat": 4,
 "nbformat_minor": 5
}
