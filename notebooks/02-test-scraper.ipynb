{
 "cells": [
  {
   "cell_type": "code",
   "execution_count": 53,
   "id": "eaf1277d",
   "metadata": {},
   "outputs": [],
   "source": [
    "import pandas as pd\n",
    "import requests\n",
    "import time\n",
    "\n",
    "from datetime import datetime"
   ]
  },
  {
   "cell_type": "code",
   "execution_count": 75,
   "id": "cfef248f",
   "metadata": {},
   "outputs": [],
   "source": [
    "# get station information (once for now; once daily when doing regularly?)\n",
    "\n",
    "r = requests.get('https://gbfs.capitalbikeshare.com/gbfs/en/station_information.json')\n",
    "j = r.json()\n",
    "s = j['data']['stations']\n",
    "\n",
    "stations = pd.json_normalize(s)\n",
    "stations['timestamp'] = datetime.now().strftime(\"%H:%M:%S\")\n",
    "\n",
    "stations.to_csv('../raw_data/station_data.csv')"
   ]
  },
  {
   "cell_type": "code",
   "execution_count": 72,
   "id": "70e5ab6c",
   "metadata": {},
   "outputs": [],
   "source": [
    "def call_dockless_api():\n",
    "    \n",
    "    url = 'https://gbfs.capitalbikeshare.com/gbfs/en/free_bike_status.json'\n",
    "    \n",
    "    r = requests.get(url)\n",
    "    j = r.json()\n",
    "    b = j['data']['bikes']\n",
    "    \n",
    "    dockless_bikes = pd.json_normalize(b)\n",
    "    dockless_bikes['timestamp'] = datetime.now().strftime(\"%H:%M:%S\")\n",
    "    \n",
    "    return dockless_bikes   "
   ]
  },
  {
   "cell_type": "code",
   "execution_count": 69,
   "id": "e1d0a1e1",
   "metadata": {},
   "outputs": [],
   "source": [
    "def call_docked_api():\n",
    "    \n",
    "    url = 'https://gbfs.capitalbikeshare.com/gbfs/en/station_status.json'\n",
    "    \n",
    "    r = requests.get(url)\n",
    "    j = r.json()\n",
    "    b = j['data']['stations']\n",
    "    \n",
    "    docked_bikes = pd.json_normalize(b)\n",
    "    docked_bikes['timestamp'] = datetime.now().strftime(\"%H:%M:%S\")\n",
    "    \n",
    "    return docked_bikes "
   ]
  },
  {
   "cell_type": "code",
   "execution_count": 73,
   "id": "3c19527b",
   "metadata": {},
   "outputs": [],
   "source": [
    "def scrape_bikes(interval):\n",
    "    \n",
    "    dockless_bike_data = pd.DataFrame()\n",
    "    docked_bike_data = pd.DataFrame()\n",
    "    timer = 0\n",
    "    \n",
    "    while True:\n",
    "        \n",
    "        current_dockless_bikes = call_dockless_api()\n",
    "        current_docked_bikes = call_docked_api()\n",
    "        \n",
    "        dockless_bike_data = pd.concat((dockless_bike_data, current_dockless_bikes))\n",
    "        docked_bike_data = pd.concat((docked_bike_data, current_docked_bikes))\n",
    "        \n",
    "        dockless_bike_data.to_csv('../raw_data/dockless_bike_data.csv')\n",
    "        docked_bike_data.to_csv('../raw_data/docked_bike_data.csv')\n",
    "        \n",
    "        timer = timer + interval\n",
    "        time.sleep(interval)"
   ]
  },
  {
   "cell_type": "code",
   "execution_count": 74,
   "id": "df73c3de",
   "metadata": {},
   "outputs": [],
   "source": [
    "scrape_bikes(60)"
   ]
  }
 ],
 "metadata": {
  "kernelspec": {
   "display_name": "capstone",
   "language": "python",
   "name": "capstone"
  },
  "language_info": {
   "codemirror_mode": {
    "name": "ipython",
    "version": 3
   },
   "file_extension": ".py",
   "mimetype": "text/x-python",
   "name": "python",
   "nbconvert_exporter": "python",
   "pygments_lexer": "ipython3",
   "version": "3.8.10"
  }
 },
 "nbformat": 4,
 "nbformat_minor": 5
}
