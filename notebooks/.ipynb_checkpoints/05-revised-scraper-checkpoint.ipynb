{
 "cells": [
  {
   "cell_type": "code",
   "execution_count": 1,
   "id": "a5ad3ecc",
   "metadata": {},
   "outputs": [],
   "source": [
    "import pandas as pd\n",
    "import requests\n",
    "import psycopg\n",
    "\n",
    "from datetime import datetime"
   ]
  },
  {
   "cell_type": "code",
   "execution_count": 63,
   "id": "f5a17218",
   "metadata": {},
   "outputs": [],
   "source": [
    "def scrape_dockless_vehicles(provider, time_scraped=None):\n",
    "    \n",
    "    # set timestamp if not passed from wrapper function\n",
    "    if time_scraped == None:\n",
    "        time_scraped = datetime.now().astimezone().isoformat(timespec='seconds', sep=' ')\n",
    "    \n",
    "    # GBFS free_bike_status endpoint URLs for all D.C. dockless providers as of 2022-04-13\n",
    "    # source: https://ddot.dc.gov/page/dockless-api\n",
    "    provider_urls = {\n",
    "        'Bird': 'https://gbfs.bird.co/dc',\n",
    "        'Capital Bikeshare': 'https://gbfs.capitalbikeshare.com/gbfs/en/free_bike_status.json',\n",
    "        'Helbiz': 'https://admin-api-prod.helbizscooters.com//reporting/washington/gbfs/free_bike_status.json',\n",
    "        'Lime': 'https://data.lime.bike/api/partners/v1/gbfs/washington_dc/free_bike_status.json',\n",
    "        'Lyft': 'https://s3.amazonaws.com/lyft-lastmile-production-iad/lbs/dca/free_bike_status.json',\n",
    "        'Spin': 'https://gbfs.spin.pm/api/gbfs/v1/washington_dc/free_bike_status'  \n",
    "    }\n",
    "    \n",
    "    # select correct URL for passed provider\n",
    "    url = provider_urls[provider]\n",
    "    \n",
    "    # retrieve data from API endpoint; convert to JSON\n",
    "    r = requests.get(url) \n",
    "    j = r.json()\n",
    "\n",
    "    # extract individual vehicles\n",
    "    bikes = j['data']['bikes']\n",
    "\n",
    "    # connect to database\n",
    "    with psycopg.connect(\"dbname=capstone-local user=eli\") as conn:\n",
    "\n",
    "        # open cursor to perform database operations\n",
    "        with conn.cursor() as cur:\n",
    "\n",
    "            # iterate through JSON objects to parse\n",
    "            for bike in bikes:\n",
    "\n",
    "                # select relevant fields, coercing type where necessary\n",
    "                bike_id = bike['bike_id']\n",
    "                vehicle_type = bike['vehicle_type'] if 'vehicle_type' in bike else bike['type']\n",
    "                is_reserved = bool(bike['is_reserved'])\n",
    "                is_disabled = bool(bike['is_disabled'])\n",
    "                battery_level = bike['battery_level'] if 'battery_level' in bike else None\n",
    "                lat = bike['lat']\n",
    "                lon = bike['lon']\n",
    "\n",
    "                # add vehicle data to database\n",
    "                cur.execute(\"\"\"\n",
    "                    INSERT INTO vehicles (\n",
    "                        provider,\n",
    "                        bike_id,\n",
    "                        vehicle_type,\n",
    "                        is_reserved,\n",
    "                        is_disabled,\n",
    "                        battery_level,\n",
    "                        lat,\n",
    "                        lon,\n",
    "                        time_scraped)\n",
    "                    VALUES (%s, %s, %s, %s, %s, %s, %s, %s, %s)\n",
    "                    \"\"\",\n",
    "                    (provider, bike_id, vehicle_type, is_reserved, is_disabled, battery_level, lat, lon, \n",
    "                     time_scraped))\n",
    "\n",
    "            # commit updates to database\n",
    "            conn.commit()"
   ]
  },
  {
   "cell_type": "code",
   "execution_count": 64,
   "id": "2d0ced7c",
   "metadata": {},
   "outputs": [],
   "source": [
    "def scrape_all():\n",
    "    \n",
    "    time_scraped = datetime.now().astimezone().isoformat(timespec='seconds', sep=' ')\n",
    "    \n",
    "    providers = ['Bird', 'Capital Bikeshare', 'Helbiz', 'Lime', 'Lyft', 'Spin']\n",
    "    \n",
    "    for provider in providers:\n",
    "        scrape_dockless_vehicles(provider, time_scraped=time_scraped)"
   ]
  },
  {
   "cell_type": "markdown",
   "id": "3f0d908b",
   "metadata": {},
   "source": [
    "## References\n",
    "- Pybikes GBFS scraper/parser: https://github.com/eskerda/pybikes/blob/master/pybikes/gbfs.py\n",
    "- Python classes: https://docs.python.org/3/tutorial/classes.html"
   ]
  }
 ],
 "metadata": {
  "kernelspec": {
   "display_name": "capstone",
   "language": "python",
   "name": "capstone"
  },
  "language_info": {
   "codemirror_mode": {
    "name": "ipython",
    "version": 3
   },
   "file_extension": ".py",
   "mimetype": "text/x-python",
   "name": "python",
   "nbconvert_exporter": "python",
   "pygments_lexer": "ipython3",
   "version": "3.8.10"
  }
 },
 "nbformat": 4,
 "nbformat_minor": 5
}
