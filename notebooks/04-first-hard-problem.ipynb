{
 "cells": [
  {
   "cell_type": "markdown",
   "id": "ee2f56af",
   "metadata": {},
   "source": []
  },
  {
   "cell_type": "code",
   "execution_count": null,
   "id": "4827b360",
   "metadata": {},
   "outputs": [],
   "source": [
    "# {convert handwritten pseudocode to actual python}\n",
    "# lol, i will code this later"
   ]
  }
 ],
 "metadata": {
  "kernelspec": {
   "display_name": "capstone",
   "language": "python",
   "name": "capstone"
  },
  "language_info": {
   "codemirror_mode": {
    "name": "ipython",
    "version": 3
   },
   "file_extension": ".py",
   "mimetype": "text/x-python",
   "name": "python",
   "nbconvert_exporter": "python",
   "pygments_lexer": "ipython3",
   "version": "3.8.10"
  }
 },
 "nbformat": 4,
 "nbformat_minor": 5
}
