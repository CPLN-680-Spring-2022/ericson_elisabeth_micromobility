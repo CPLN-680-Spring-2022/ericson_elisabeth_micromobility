{
 "cells": [
  {
   "cell_type": "code",
   "execution_count": 2,
   "id": "605dee63",
   "metadata": {},
   "outputs": [],
   "source": [
    "import pandas as pd"
   ]
  },
  {
   "cell_type": "markdown",
   "id": "852fb7d4",
   "metadata": {},
   "source": [
    "## monthly trips data"
   ]
  },
  {
   "cell_type": "code",
   "execution_count": 5,
   "id": "fc73b97c",
   "metadata": {},
   "outputs": [],
   "source": [
    "trips_raw = pd.read_csv('../raw_data/202112-capitalbikeshare-tripdata.csv')"
   ]
  },
  {
   "cell_type": "code",
   "execution_count": 6,
   "id": "751d93fd",
   "metadata": {},
   "outputs": [
    {
     "data": {
      "text/html": [
       "<div>\n",
       "<style scoped>\n",
       "    .dataframe tbody tr th:only-of-type {\n",
       "        vertical-align: middle;\n",
       "    }\n",
       "\n",
       "    .dataframe tbody tr th {\n",
       "        vertical-align: top;\n",
       "    }\n",
       "\n",
       "    .dataframe thead th {\n",
       "        text-align: right;\n",
       "    }\n",
       "</style>\n",
       "<table border=\"1\" class=\"dataframe\">\n",
       "  <thead>\n",
       "    <tr style=\"text-align: right;\">\n",
       "      <th></th>\n",
       "      <th>ride_id</th>\n",
       "      <th>rideable_type</th>\n",
       "      <th>started_at</th>\n",
       "      <th>ended_at</th>\n",
       "      <th>start_station_name</th>\n",
       "      <th>start_station_id</th>\n",
       "      <th>end_station_name</th>\n",
       "      <th>end_station_id</th>\n",
       "      <th>start_lat</th>\n",
       "      <th>start_lng</th>\n",
       "      <th>end_lat</th>\n",
       "      <th>end_lng</th>\n",
       "      <th>member_casual</th>\n",
       "    </tr>\n",
       "  </thead>\n",
       "  <tbody>\n",
       "    <tr>\n",
       "      <th>0</th>\n",
       "      <td>D23C21951F265D19</td>\n",
       "      <td>classic_bike</td>\n",
       "      <td>2021-12-12 14:25:41</td>\n",
       "      <td>2021-12-12 14:31:04</td>\n",
       "      <td>Monroe St &amp; Monroe Pl</td>\n",
       "      <td>32017.0</td>\n",
       "      <td>Fleet St &amp; Ritchie Pkwy</td>\n",
       "      <td>32032.0</td>\n",
       "      <td>39.083673</td>\n",
       "      <td>-77.149162</td>\n",
       "      <td>39.076331</td>\n",
       "      <td>-77.141378</td>\n",
       "      <td>member</td>\n",
       "    </tr>\n",
       "    <tr>\n",
       "      <th>1</th>\n",
       "      <td>4E2218DC5EF71C81</td>\n",
       "      <td>electric_bike</td>\n",
       "      <td>2021-12-30 16:27:27</td>\n",
       "      <td>2021-12-30 17:02:16</td>\n",
       "      <td>5th &amp; Kennedy St NW</td>\n",
       "      <td>31403.0</td>\n",
       "      <td>6th &amp; K St NE</td>\n",
       "      <td>31645.0</td>\n",
       "      <td>38.956651</td>\n",
       "      <td>-77.019741</td>\n",
       "      <td>38.902932</td>\n",
       "      <td>-76.998405</td>\n",
       "      <td>casual</td>\n",
       "    </tr>\n",
       "    <tr>\n",
       "      <th>2</th>\n",
       "      <td>A19607CDC98C051C</td>\n",
       "      <td>classic_bike</td>\n",
       "      <td>2021-12-27 11:14:18</td>\n",
       "      <td>2021-12-27 11:38:00</td>\n",
       "      <td>Monroe St &amp; Monroe Pl</td>\n",
       "      <td>32017.0</td>\n",
       "      <td>Congressional Ln &amp; E Jefferson St</td>\n",
       "      <td>32081.0</td>\n",
       "      <td>39.083673</td>\n",
       "      <td>-77.149162</td>\n",
       "      <td>39.062190</td>\n",
       "      <td>-77.129235</td>\n",
       "      <td>casual</td>\n",
       "    </tr>\n",
       "    <tr>\n",
       "      <th>3</th>\n",
       "      <td>8B9BB60DB257BA57</td>\n",
       "      <td>classic_bike</td>\n",
       "      <td>2021-12-27 11:12:54</td>\n",
       "      <td>2021-12-27 11:37:49</td>\n",
       "      <td>Monroe St &amp; Monroe Pl</td>\n",
       "      <td>32017.0</td>\n",
       "      <td>Congressional Ln &amp; E Jefferson St</td>\n",
       "      <td>32081.0</td>\n",
       "      <td>39.083673</td>\n",
       "      <td>-77.149162</td>\n",
       "      <td>39.062190</td>\n",
       "      <td>-77.129235</td>\n",
       "      <td>casual</td>\n",
       "    </tr>\n",
       "    <tr>\n",
       "      <th>4</th>\n",
       "      <td>4EAB499C31027AB4</td>\n",
       "      <td>classic_bike</td>\n",
       "      <td>2021-12-17 09:06:54</td>\n",
       "      <td>2021-12-17 09:26:05</td>\n",
       "      <td>5th &amp; Kennedy St NW</td>\n",
       "      <td>31403.0</td>\n",
       "      <td>John McCormack Rd NE</td>\n",
       "      <td>31528.0</td>\n",
       "      <td>38.956556</td>\n",
       "      <td>-77.019814</td>\n",
       "      <td>38.938889</td>\n",
       "      <td>-76.997226</td>\n",
       "      <td>casual</td>\n",
       "    </tr>\n",
       "  </tbody>\n",
       "</table>\n",
       "</div>"
      ],
      "text/plain": [
       "            ride_id  rideable_type           started_at             ended_at  \\\n",
       "0  D23C21951F265D19   classic_bike  2021-12-12 14:25:41  2021-12-12 14:31:04   \n",
       "1  4E2218DC5EF71C81  electric_bike  2021-12-30 16:27:27  2021-12-30 17:02:16   \n",
       "2  A19607CDC98C051C   classic_bike  2021-12-27 11:14:18  2021-12-27 11:38:00   \n",
       "3  8B9BB60DB257BA57   classic_bike  2021-12-27 11:12:54  2021-12-27 11:37:49   \n",
       "4  4EAB499C31027AB4   classic_bike  2021-12-17 09:06:54  2021-12-17 09:26:05   \n",
       "\n",
       "      start_station_name  start_station_id                   end_station_name  \\\n",
       "0  Monroe St & Monroe Pl           32017.0            Fleet St & Ritchie Pkwy   \n",
       "1    5th & Kennedy St NW           31403.0                      6th & K St NE   \n",
       "2  Monroe St & Monroe Pl           32017.0  Congressional Ln & E Jefferson St   \n",
       "3  Monroe St & Monroe Pl           32017.0  Congressional Ln & E Jefferson St   \n",
       "4    5th & Kennedy St NW           31403.0               John McCormack Rd NE   \n",
       "\n",
       "   end_station_id  start_lat  start_lng    end_lat    end_lng member_casual  \n",
       "0         32032.0  39.083673 -77.149162  39.076331 -77.141378        member  \n",
       "1         31645.0  38.956651 -77.019741  38.902932 -76.998405        casual  \n",
       "2         32081.0  39.083673 -77.149162  39.062190 -77.129235        casual  \n",
       "3         32081.0  39.083673 -77.149162  39.062190 -77.129235        casual  \n",
       "4         31528.0  38.956556 -77.019814  38.938889 -76.997226        casual  "
      ]
     },
     "execution_count": 6,
     "metadata": {},
     "output_type": "execute_result"
    }
   ],
   "source": [
    "trips_raw.head()"
   ]
  },
  {
   "cell_type": "code",
   "execution_count": 7,
   "id": "90f107c7",
   "metadata": {
    "scrolled": true
   },
   "outputs": [
    {
     "data": {
      "text/plain": [
       "190847"
      ]
     },
     "execution_count": 7,
     "metadata": {},
     "output_type": "execute_result"
    }
   ],
   "source": [
    "len(trips_raw)"
   ]
  },
  {
   "cell_type": "code",
   "execution_count": 8,
   "id": "67d47910",
   "metadata": {},
   "outputs": [
    {
     "data": {
      "text/plain": [
       "rideable_type\n",
       "classic_bike     142468\n",
       "docked_bike        9283\n",
       "electric_bike     39096\n",
       "dtype: int64"
      ]
     },
     "execution_count": 8,
     "metadata": {},
     "output_type": "execute_result"
    }
   ],
   "source": [
    "trips_raw.groupby('rideable_type').size()"
   ]
  },
  {
   "cell_type": "code",
   "execution_count": 9,
   "id": "06a26760",
   "metadata": {},
   "outputs": [
    {
     "data": {
      "text/plain": [
       "16475"
      ]
     },
     "execution_count": 9,
     "metadata": {},
     "output_type": "execute_result"
    }
   ],
   "source": [
    "trips_raw_dockless = trips_raw.query('start_station_id.isna() | end_station_id.isna()')\n",
    "\n",
    "len(trips_raw_dockless)"
   ]
  },
  {
   "cell_type": "code",
   "execution_count": 10,
   "id": "4de1110b",
   "metadata": {},
   "outputs": [
    {
     "data": {
      "text/plain": [
       "5128"
      ]
     },
     "execution_count": 10,
     "metadata": {},
     "output_type": "execute_result"
    }
   ],
   "source": [
    "trips_raw_fully_dockless = trips_raw.query('start_station_id.isna() & end_station_id.isna()')\n",
    "\n",
    "len(trips_raw_fully_dockless)"
   ]
  },
  {
   "cell_type": "markdown",
   "id": "ce78f029",
   "metadata": {},
   "source": [
    "**Note:** The broader category of \"dockless\" trips actually includes three types of trips: (1) dockless at both ends; (2) dockless to docked; (3) docked to dockless. Not sure how to incorporate this into analysis, exactly, but potentially an interesting dimension to look at?"
   ]
  }
 ],
 "metadata": {
  "kernelspec": {
   "display_name": "capstone",
   "language": "python",
   "name": "capstone"
  },
  "language_info": {
   "codemirror_mode": {
    "name": "ipython",
    "version": 3
   },
   "file_extension": ".py",
   "mimetype": "text/x-python",
   "name": "python",
   "nbconvert_exporter": "python",
   "pygments_lexer": "ipython3",
   "version": "3.8.10"
  }
 },
 "nbformat": 4,
 "nbformat_minor": 5
}
