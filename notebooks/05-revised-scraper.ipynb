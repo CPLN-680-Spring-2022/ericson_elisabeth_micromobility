{
 "cells": [
  {
   "cell_type": "code",
   "execution_count": 1,
   "id": "a5ad3ecc",
   "metadata": {},
   "outputs": [],
   "source": [
    "import traceback\n",
    "import time\n",
    "\n",
    "import requests\n",
    "import psycopg\n",
    "import schedule\n",
    "\n",
    "from datetime import datetime"
   ]
  },
  {
   "cell_type": "code",
   "execution_count": 2,
   "id": "f5a17218",
   "metadata": {},
   "outputs": [],
   "source": [
    "def scrape_dockless_vehicles(provider, time_scraped=None):\n",
    "    \"\"\"Queries General Bikeshare Feed Specification (GBFS) free_bike_status API endpoint for a Washington, D.C. \n",
    "    dockless vehicle provider, parses JSON vehicle data, and saves select fields to a PostgreSQL database.\n",
    "    \n",
    "    Args:\n",
    "        provider (str): Vehicle provider name.\n",
    "        time_scraped (datetime, optional): Timestamp. Omit unless passed by wrapper function.\n",
    "    \"\"\"\n",
    "    \n",
    "    # set timestamp if not passed from wrapper function\n",
    "    if time_scraped == None:\n",
    "        time_scraped = datetime.now().astimezone().isoformat(timespec='seconds', sep=' ')\n",
    "    \n",
    "    # GBFS free_bike_status endpoint URLs for all D.C. dockless providers as of 2022-04-13\n",
    "    # source: https://ddot.dc.gov/page/dockless-api\n",
    "    provider_urls = {\n",
    "        'Bird': 'https://gbfs.bird.co/dc', # TODO: REMOVE X\n",
    "        'Capital Bikeshare': 'https://gbfs.capitalbikeshare.com/gbfs/en/free_bike_status.json',\n",
    "        'Helbiz': 'https://admin-api-prod.helbizscooters.com//reporting/washington/gbfs/free_bike_status.json',\n",
    "        'Lime': 'https://data.lime.bike/api/partners/v1/gbfs/washington_dc/free_bike_status.json',\n",
    "        'Lyft': 'https://s3.amazonaws.com/lyft-lastmile-production-iad/lbs/dca/free_bike_status.json',\n",
    "        'Spin': 'https://gbfs.spin.pm/api/gbfs/v1/washington_dc/free_bike_status'\n",
    "    }\n",
    "    \n",
    "    # select correct URL for passed provider\n",
    "    url = provider_urls[provider]\n",
    "    \n",
    "    # retrieve data from API endpoint; convert to JSON\n",
    "    r = requests.get(url) \n",
    "    j = r.json()\n",
    "\n",
    "    # extract individual vehicles\n",
    "    bikes = j['data']['bikes']\n",
    "\n",
    "    # connect to database\n",
    "    with psycopg.connect(\"dbname=capstone-local user=eli\") as conn:\n",
    "\n",
    "        # open cursor to perform database operations\n",
    "        with conn.cursor() as cur:\n",
    "\n",
    "            # iterate through JSON objects to parse\n",
    "            for bike in bikes:\n",
    "\n",
    "                # select relevant fields, coercing type where necessary\n",
    "                bike_id = bike['bike_id']\n",
    "                vehicle_type = bike['vehicle_type'] if 'vehicle_type' in bike else bike['type']\n",
    "                is_reserved = bool(bike['is_reserved'])\n",
    "                is_disabled = bool(bike['is_disabled'])\n",
    "                battery_level = bike['battery_level'] if 'battery_level' in bike else None\n",
    "                lat = bike['lat']\n",
    "                lon = bike['lon']\n",
    "\n",
    "                # add vehicle data to database\n",
    "                cur.execute(\"\"\"\n",
    "                    INSERT INTO vehicles (\n",
    "                        provider,\n",
    "                        bike_id,\n",
    "                        vehicle_type,\n",
    "                        is_reserved,\n",
    "                        is_disabled,\n",
    "                        battery_level,\n",
    "                        lat,\n",
    "                        lon,\n",
    "                        time_scraped)\n",
    "                    VALUES (%s, %s, %s, %s, %s, %s, %s, %s, %s)\n",
    "                    \"\"\",\n",
    "                    (provider, bike_id, vehicle_type, is_reserved, is_disabled, battery_level, lat, lon, \n",
    "                     time_scraped))\n",
    "\n",
    "            # commit updates to database\n",
    "            conn.commit()"
   ]
  },
  {
   "cell_type": "code",
   "execution_count": 3,
   "id": "2d0ced7c",
   "metadata": {},
   "outputs": [],
   "source": [
    "def scrape_all():\n",
    "    \"\"\"Calls vehicle scraper function for all current Washington, D.C. dockless providers as of 2022-04-16. \n",
    "    If scrape fails, logs timestamped traceback to database table.\n",
    "    \"\"\"\n",
    "    \n",
    "    time_scraped = datetime.now().astimezone().isoformat(timespec='seconds', sep=' ')\n",
    "    \n",
    "    providers = ['Bird', 'Capital Bikeshare', 'Helbiz', 'Lime', 'Lyft', 'Spin']\n",
    "    \n",
    "    for provider in providers:   \n",
    "        \n",
    "        try:    \n",
    "            scrape_dockless_vehicles(provider, time_scraped=time_scraped)  \n",
    "            \n",
    "        except:        \n",
    "            time_failed = datetime.now().astimezone().isoformat(timespec='seconds', sep=' ')\n",
    "            traceback_text = traceback.format_exc()  \n",
    "            \n",
    "            with psycopg.connect(\"dbname=capstone-local user=eli\") as conn: \n",
    "                \n",
    "                with conn.cursor() as cur:   \n",
    "                    \n",
    "                    cur.execute(\"\"\"\n",
    "                        INSERT INTO errors (time_scraped, provider, time_failed, traceback) \n",
    "                        VALUES (%s, %s, %s, %s)\n",
    "                        \"\"\", (time_scraped, provider, time_failed, traceback_text))     \n",
    "                    \n",
    "                    conn.commit()"
   ]
  },
  {
   "cell_type": "code",
   "execution_count": 4,
   "id": "6141e762",
   "metadata": {},
   "outputs": [
    {
     "data": {
      "text/plain": [
       "Every 1 minute at 00:00:00 do scrape_all() (last run: [never], next run: 2022-04-16 22:06:00)"
      ]
     },
     "execution_count": 4,
     "metadata": {},
     "output_type": "execute_result"
    }
   ],
   "source": [
    "schedule.every().minute.at(':00').do(scrape_all)"
   ]
  },
  {
   "cell_type": "code",
   "execution_count": null,
   "id": "42a05a56",
   "metadata": {},
   "outputs": [],
   "source": [
    "while True:\n",
    "    schedule.run_pending()\n",
    "    time.sleep(1)    "
   ]
  },
  {
   "cell_type": "markdown",
   "id": "3f0d908b",
   "metadata": {},
   "source": [
    "## References\n",
    "- Pybikes GBFS scraper/parser: https://github.com/eskerda/pybikes/blob/master/pybikes/gbfs.py\n",
    "- Python classes: https://docs.python.org/3/tutorial/classes.html\n",
    "- Blog post on tracking bikeshare use with GBFS feeds: https://notes.mikejarrett.ca/tracking-bikeshare-use-using-gbfs-feeds/"
   ]
  }
 ],
 "metadata": {
  "kernelspec": {
   "display_name": "capstone",
   "language": "python",
   "name": "capstone"
  },
  "language_info": {
   "codemirror_mode": {
    "name": "ipython",
    "version": 3
   },
   "file_extension": ".py",
   "mimetype": "text/x-python",
   "name": "python",
   "nbconvert_exporter": "python",
   "pygments_lexer": "ipython3",
   "version": "3.8.10"
  }
 },
 "nbformat": 4,
 "nbformat_minor": 5
}
